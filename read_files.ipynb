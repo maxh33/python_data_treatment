{
 "cells": [
  {
   "cell_type": "code",
   "execution_count": 1,
   "metadata": {},
   "outputs": [
    {
     "name": "stdout",
     "output_type": "stream",
     "text": [
      "age,job,marital,education,default,balance,housing,loan\n",
      "30,unemployed,married,primary,no,1787,no,no\n",
      "33,services,married,secondary,no,4789,yes,yes\n",
      "35,management,single,tertiary,no,1350,yes,no\n",
      "30,management,married,tertiary,no,1476,yes,yes\n",
      "59,blue-collar,married,secondary,no,0,yes,no\n",
      "35,management,single,tertiary,no,747,no,no\n",
      "36,self-employed,married,tertiary,no,307,yes,no\n",
      "39,technician,married,secondary,no,147,yes,no\n",
      "41,entrepreneur,married,tertiary,no,221,yes,no\n",
      "43,services,married,primary,no,-88,yes,yes\n"
     ]
    }
   ],
   "source": [
    "conteudo = None\n",
    "\n",
    "with open(file='./banco.csv', mode='r', encoding='utf-8') as arquivo:\n",
    "    conteudo = arquivo.read()\n",
    "\n",
    "print(conteudo)\n",
    "\n"
   ]
  },
  {
   "cell_type": "code",
   "execution_count": 2,
   "metadata": {},
   "outputs": [
    {
     "name": "stdout",
     "output_type": "stream",
     "text": [
      "['age,job,marital,education,default,balance,housing,loan\\n', '30,unemployed,married,primary,no,1787,no,no\\n', '33,services,married,secondary,no,4789,yes,yes\\n', '35,management,single,tertiary,no,1350,yes,no\\n', '30,management,married,tertiary,no,1476,yes,yes\\n', '59,blue-collar,married,secondary,no,0,yes,no\\n', '35,management,single,tertiary,no,747,no,no\\n', '36,self-employed,married,tertiary,no,307,yes,no\\n', '39,technician,married,secondary,no,147,yes,no\\n', '41,entrepreneur,married,tertiary,no,221,yes,no\\n', '43,services,married,primary,no,-88,yes,yes']\n"
     ]
    }
   ],
   "source": [
    "conteudo = []\n",
    "\n",
    "with open(file='./banco.csv', mode='r', encoding='utf-8') as arquivo:\n",
    "    linha = arquivo.readline() # lê a primeira linha\n",
    "    while linha:\n",
    "        conteudo.append(linha)\n",
    "        linha = arquivo.readline() # lê a próxima linha\n",
    "\n",
    "print(conteudo)"
   ]
  },
  {
   "cell_type": "code",
   "execution_count": 3,
   "metadata": {},
   "outputs": [
    {
     "name": "stdout",
     "output_type": "stream",
     "text": [
      "age,job,marital,education,default,balance,housing,loan\n",
      "\n",
      "30,unemployed,married,primary,no,1787,no,no\n",
      "\n",
      "33,services,married,secondary,no,4789,yes,yes\n",
      "\n",
      "35,management,single,tertiary,no,1350,yes,no\n",
      "\n",
      "30,management,married,tertiary,no,1476,yes,yes\n",
      "\n",
      "59,blue-collar,married,secondary,no,0,yes,no\n",
      "\n",
      "35,management,single,tertiary,no,747,no,no\n",
      "\n",
      "36,self-employed,married,tertiary,no,307,yes,no\n",
      "\n",
      "39,technician,married,secondary,no,147,yes,no\n",
      "\n",
      "41,entrepreneur,married,tertiary,no,221,yes,no\n",
      "\n",
      "43,services,married,primary,no,-88,yes,yes\n"
     ]
    }
   ],
   "source": [
    "for linha in conteudo:\n",
    "    print(linha) # imprime cada linha facilitando a leitura"
   ]
  },
  {
   "cell_type": "code",
   "execution_count": 2,
   "metadata": {},
   "outputs": [
    {
     "name": "stdout",
     "output_type": "stream",
     "text": [
      "[30, 33, 35, 30, 59, 35, 36, 39, 41, 43]\n"
     ]
    }
   ],
   "source": [
    "idades = []\n",
    "\n",
    "with open(file='./banco.csv', mode='r', encoding='utf-8') as arquivo:\n",
    "    linha = arquivo.readline() # lê a primeira linha\n",
    "    linha = arquivo.readline() # lê a próxima linha\n",
    "    while linha:\n",
    "        linha_separada = linha.split(sep=',') # separa a string separadas por virgulas em uma lista\n",
    "        idade = linha_separada[0] # pega o primeiro elemento da lista (idade)\n",
    "        idade = int(idade) # converte a idade para inteiro\n",
    "        idades.append(idade) # adiciona a idade na lista idades\n",
    "        linha = arquivo.readline() # lê a próxima linha se nao exixtir, salva como None\n",
    "\n",
    "print(idades)\n",
    "    "
   ]
  },
  {
   "cell_type": "markdown",
   "metadata": {},
   "source": [
    "Write"
   ]
  },
  {
   "cell_type": "code",
   "execution_count": 3,
   "metadata": {},
   "outputs": [],
   "source": [
    "# escrevendo um arquivo\n",
    "with open(file='./idades.csv', mode='w', encoding='utf-8') as fp:\n",
    "    linha = 'idade' + '\\n'\n",
    "    fp.write(linha)\n",
    "    for idade in idades:\n",
    "        linha = str(idade) + '\\n'\n",
    "        fp.write(linha)"
   ]
  },
  {
   "cell_type": "code",
   "execution_count": 4,
   "metadata": {},
   "outputs": [
    {
     "name": "stdout",
     "output_type": "stream",
     "text": [
      "Writing banco-texto.txt\n"
     ]
    }
   ],
   "source": [
    "%%writefile banco-texto.txt\n",
    "age,job,marital,education,default,balance,housing,loan\n",
    "30,unemployed,married,primary,no,1787,no,no\n",
    "33,services,married,secondary,no,4789,yes,yes\n",
    "35,management,single,tertiary,no,1350,yes,no\n",
    "30,management,married,tertiary,no,1476,yes,yes\n",
    "59,blue-collar,married,secondary,no,0,yes,no\n",
    "35,management,single,tertiary,no,747,no,no\n",
    "36,self-employed,married,tertiary,no,307,yes,no\n",
    "39,technician,married,secondary,no,147,yes,no\n",
    "41,entrepreneur,married,tertiary,no,221,yes,no\n",
    "43,services,married,primary,no,-88,yes,yes"
   ]
  },
  {
   "cell_type": "code",
   "execution_count": 5,
   "metadata": {},
   "outputs": [],
   "source": [
    "# Lendo o arquivo banco-texto.txt e escrevendo em banco.csv\n",
    "with open(file='./banco-texto.txt', mode='r', encoding='utf-8') as leitura:\n",
    "    with open(file='./banco.csv', mode='w', encoding='utf-8') as escrita:\n",
    "        linha = leitura.readline()\n",
    "        while linha:\n",
    "            escrita.write(linha)\n",
    "            linha = leitura.readline()"
   ]
  },
  {
   "cell_type": "markdown",
   "metadata": {},
   "source": [
    "Functions "
   ]
  },
  {
   "cell_type": "code",
   "execution_count": 6,
   "metadata": {},
   "outputs": [],
   "source": [
    "def imprime(mensagem: str):\n",
    "    print(mensagem)"
   ]
  },
  {
   "cell_type": "code",
   "execution_count": 7,
   "metadata": {},
   "outputs": [
    {
     "name": "stdout",
     "output_type": "stream",
     "text": [
      "Olá, mundo!\n"
     ]
    }
   ],
   "source": [
    "imprime('Olá, mundo!')"
   ]
  },
  {
   "cell_type": "code",
   "execution_count": 34,
   "metadata": {},
   "outputs": [],
   "source": [
    "# Função que retorna o texto em maiúsculo\n",
    "def maiusculo(texto: str) -> str:\n",
    "    text_maiusculo = texto.upper()\n",
    "    return text_maiusculo"
   ]
  },
  {
   "cell_type": "code",
   "execution_count": 35,
   "metadata": {},
   "outputs": [
    {
     "name": "stdout",
     "output_type": "stream",
     "text": [
      "joao da silva\n",
      "JOAO DA SILVA\n"
     ]
    }
   ],
   "source": [
    "# Testando a função maiusculo\n",
    "nome = 'joao da silva'\n",
    "print(nome)\n",
    "\n",
    "nome_maiusculo = maiusculo(texto=nome)\n",
    "print(nome_maiusculo)"
   ]
  },
  {
   "cell_type": "code",
   "execution_count": 18,
   "metadata": {},
   "outputs": [],
   "source": [
    "# Função que usa @ como separado poara recenhecer um email e separar o usuario do provedor\n",
    "def extrair_usuario_email_provedor(email: str) -> (str, str):\n",
    "    email_separado = email.split(sep='@')\n",
    "    usuario = email_separado[0]\n",
    "    provedor = email_separado[1]\n",
    "    return usuario, provedor"
   ]
  },
  {
   "cell_type": "code",
   "execution_count": 19,
   "metadata": {},
   "outputs": [
    {
     "name": "stdout",
     "output_type": "stream",
     "text": [
      "xam.xmmas\n",
      "proton.com\n"
     ]
    }
   ],
   "source": [
    "# Testando a função extrair_usuario_email_provedor\n",
    "email = 'xam.xmmas@proton.com'\n",
    "usuario, provedor = extrair_usuario_email_provedor(email=email)\n",
    "print(usuario)\n",
    "print(provedor)"
   ]
  },
  {
   "cell_type": "code",
   "execution_count": 20,
   "metadata": {},
   "outputs": [],
   "source": [
    "# Função que retorna o valor de pi\n",
    "def pi() -> float:\n",
    "    return 3.14159265359"
   ]
  },
  {
   "cell_type": "code",
   "execution_count": 21,
   "metadata": {},
   "outputs": [
    {
     "name": "stdout",
     "output_type": "stream",
     "text": [
      "3.14159265359\n"
     ]
    }
   ],
   "source": [
    "# Testando a função pi\n",
    "pi = pi()\n",
    "print(pi)"
   ]
  },
  {
   "cell_type": "code",
   "execution_count": 22,
   "metadata": {},
   "outputs": [],
   "source": [
    "# Função que imprime o valor de pi\n",
    "def imprime_pi() -> None:\n",
    "    print(3.14159265359)\n",
    "    return None"
   ]
  },
  {
   "cell_type": "code",
   "execution_count": 23,
   "metadata": {},
   "outputs": [],
   "source": [
    "# Função para escrever em arquivo CSV: abre o arquivo, escreve cabeçalho e conteúdo, trata exceções.\n",
    "def escreve_arquivo_csv(nome_arquivo: str, cabecalho: str, conteudo: list) -> bool:\n",
    "\n",
    "    try:\n",
    "\n",
    "        with open(file=nome_arquivo, mode='w', encoding='utf-8') as fp:\n",
    "            linha = cabecalho + '\\n'\n",
    "            fp.write(linha)\n",
    "            for linha in conteudo:\n",
    "                linha = str(conteudo) + '\\n'\n",
    "                fp.write(linha)\n",
    "\n",
    "    except Exception as erro:\n",
    "\n",
    "        print(erro)\n",
    "        return False\n",
    "    \n",
    "    return True"
   ]
  },
  {
   "cell_type": "code",
   "execution_count": 24,
   "metadata": {},
   "outputs": [
    {
     "name": "stdout",
     "output_type": "stream",
     "text": [
      "True\n"
     ]
    }
   ],
   "source": [
    "# Testando a função escreve_arquivo_csv\n",
    "nome = 'idades-funcao.csv'\n",
    "cabecalho = 'idade'\n",
    "conteudo = [30, 33, 35, 30, 59, 35, 36, 39, 41, 43]\n",
    "\n",
    "escreveu_com_sucesso = escreve_arquivo_csv(nome_arquivo=nome, cabecalho=cabecalho, conteudo=conteudo)\n",
    "print(escreveu_com_sucesso)"
   ]
  },
  {
   "cell_type": "code",
   "execution_count": 25,
   "metadata": {},
   "outputs": [
    {
     "name": "stdout",
     "output_type": "stream",
     "text": [
      "'int' object is not iterable\n",
      "False\n"
     ]
    }
   ],
   "source": [
    "# Forçando erro na função escreve_arquivo_csv para testar o except\n",
    "nome = 'idades-funcao-erro.csv'\n",
    "cabecalho = 'idade'\n",
    "conteudo = [30, 33, 35, 30, 59, 35, 36, 39, 41, 43]\n",
    "conteudo = 10\n",
    "\n",
    "escreveu_com_sucesso = escreve_arquivo_csv(nome_arquivo=nome, cabecalho=cabecalho, conteudo=conteudo)\n",
    "print(escreveu_com_sucesso)"
   ]
  },
  {
   "cell_type": "code",
   "execution_count": 28,
   "metadata": {},
   "outputs": [
    {
     "name": "stdout",
     "output_type": "stream",
     "text": [
      "Para um valor inicial de R$ 1000.0 e uma taxa de juros anual de 0.1, em 10 anos você terá R$ 2593.74.\n",
      "Para um valor inicial de R$ 1020.0 e uma taxa de juros anual de 0.03, em 50 anos você terá R$ 4471.58.\n"
     ]
    }
   ],
   "source": [
    "# Função que calcula juros compostos anualmente\n",
    "def juros_compostos_anual(valor_inicial: float, taxa_juros_anual: float, anos: int) -> float:\n",
    "    valor_final = valor_inicial\n",
    "    for ano in range(1, anos+1):\n",
    "        valor_final = valor_final * (1 + taxa_juros_anual)\n",
    "    valor_final = round(valor_final, 2)\n",
    "    print(f'Para um valor inicial de R$ {valor_inicial} e uma taxa de juros anual de {taxa_juros_anual}, em {anos} anos você terá R$ {valor_final}.')\n",
    "    return valor_final\n",
    "\n",
    "valor_inicial, taxa_juros_anual, anos = 1000.00, 0.1, 10\n",
    "valor_final = juros_compostos_anual(valor_inicial=valor_inicial, taxa_juros_anual=taxa_juros_anual, anos=anos)\n",
    "\n",
    "valor_inicial, taxa_juros_anual, anos = 1020.00, 0.03, 50\n",
    "valor_final = juros_compostos_anual(valor_inicial=valor_inicial, taxa_juros_anual=taxa_juros_anual, anos=anos)"
   ]
  },
  {
   "cell_type": "code",
   "execution_count": 30,
   "metadata": {},
   "outputs": [],
   "source": [
    "# escopo limitado na função\n",
    "def soma_lista(numeros: list) -> int:\n",
    "    s = 0 \n",
    "    for numero in numeros:\n",
    "        s = s + numero\n",
    "    return s"
   ]
  },
  {
   "cell_type": "code",
   "execution_count": 31,
   "metadata": {},
   "outputs": [
    {
     "name": "stdout",
     "output_type": "stream",
     "text": [
      "40\n"
     ]
    }
   ],
   "source": [
    "# Testando a função s dentro do escopo da função soma_lista\n",
    "soma = soma_lista(numeros=[2] * 20)\n",
    "print(soma)"
   ]
  },
  {
   "cell_type": "code",
   "execution_count": 33,
   "metadata": {},
   "outputs": [
    {
     "ename": "NameError",
     "evalue": "name 's' is not defined",
     "output_type": "error",
     "traceback": [
      "\u001b[1;31m---------------------------------------------------------------------------\u001b[0m",
      "\u001b[1;31mNameError\u001b[0m                                 Traceback (most recent call last)",
      "Cell \u001b[1;32mIn[33], line 2\u001b[0m\n\u001b[0;32m      1\u001b[0m \u001b[38;5;66;03m# nao vai funcionar pois s está fora do escopo da função\u001b[39;00m\n\u001b[1;32m----> 2\u001b[0m \u001b[38;5;28mprint\u001b[39m(\u001b[43ms\u001b[49m)\n",
      "\u001b[1;31mNameError\u001b[0m: name 's' is not defined"
     ]
    }
   ],
   "source": [
    "# nao vai funcionar pois s está fora do escopo da função\n",
    "print(s)"
   ]
  }
 ],
 "metadata": {
  "kernelspec": {
   "display_name": "Python 3",
   "language": "python",
   "name": "python3"
  },
  "language_info": {
   "codemirror_mode": {
    "name": "ipython",
    "version": 3
   },
   "file_extension": ".py",
   "mimetype": "text/x-python",
   "name": "python",
   "nbconvert_exporter": "python",
   "pygments_lexer": "ipython3",
   "version": "3.12.3"
  }
 },
 "nbformat": 4,
 "nbformat_minor": 2
}
