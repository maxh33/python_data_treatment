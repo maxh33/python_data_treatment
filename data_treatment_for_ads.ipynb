{
  "cells": [
    {
      "cell_type": "markdown",
      "metadata": {
        "id": "d9jDtUbDOE1-"
      },
      "source": [
        "# **Tópicos**\n",
        "\n",
        "<ol type=\"1\">\n",
        "  <li>Estrutura condicional if / else / elif;</li>\n",
        "  <li>Estrutura condicional try / catch / finally;</li>\n",
        "  <li>Estrutura de repetição for / in.</li>\n",
        "</ol>"
      ]
    },
    {
      "cell_type": "markdown",
      "metadata": {
        "id": "muD1vxozykSC"
      },
      "source": [
        "## 1\\. Dados de interação de usuários com propagandas online"
      ]
    },
    {
      "cell_type": "markdown",
      "metadata": {
        "id": "ahrFfCuBxJKs"
      },
      "source": [
        "Na lista `propaganda_online` abaixo, estão presente os dados de usuários que acessaram um determinado site e se o mesmo clicou em uma propaganda."
      ]
    },
    {
      "cell_type": "code",
      "execution_count": 1,
      "metadata": {
        "id": "PNaclU085nfy"
      },
      "outputs": [],
      "source": [
        "propaganda_online = [\n",
        "  {'tempo_gasto_site': 68.95, 'idade': 35, 'renda_area': 61833.90, 'tempo_gasto_internet': 256.09, 'cidade': 'Wrightburgh', 'pais': 'Tunisia', 'clicou_no_ad': 0},\n",
        "  {'tempo_gasto_site': 80.23, 'idade': 31, 'renda_area': 68441.85, 'tempo_gasto_internet': 193.77, 'cidade': 'West Jodi', 'pais': 'Nauru', 'clicou_no_ad': 0},\n",
        "  {'tempo_gasto_site': 69.47, 'idade': 26, 'renda_area': 59785.94, 'tempo_gasto_internet': 236.50, 'cidade': 'Davidton', 'pais': 'San Marino', 'clicou_no_ad': 0},\n",
        "  {'tempo_gasto_site': 68.37, 'idade': 35, 'renda_area': 73889.99, 'tempo_gasto_internet': 225.58, 'cidade': 'South Manuel', 'pais': 'Iceland', 'clicou_no_ad': 0},\n",
        "  {'tempo_gasto_site': 88.91, 'idade': 33, 'renda_area': 53852.85, 'tempo_gasto_internet': 208.36, 'cidade': 'Brandonstad', 'pais': 'Myanmar', 'clicou_no_ad': 0},\n",
        "  {'tempo_gasto_site': None, 'idade': 48, 'renda_area': 24593.33, 'tempo_gasto_internet': 131.76, 'cidade': 'Port Jefferybury', 'pais': 'Australia', 'clicou_no_ad': 1},\n",
        "  {'tempo_gasto_site': 74.53, 'idade': 30, 'renda_area': 68862.00, 'tempo_gasto_internet': 221.51, 'cidade': 'West Colin', 'pais': 'Grenada'},\n",
        "  {'tempo_gasto_site': 69.88, 'idade': 20, 'renda_area': 55642.32, 'tempo_gasto_internet': 183.82, 'cidade': 'Ramirezton', 'pais': 'Ghana', 'clicou_no_ad': 0}\n",
        "]"
      ]
    },
    {
      "cell_type": "markdown",
      "metadata": {
        "id": "67QSsg6b_WRP"
      },
      "source": [
        "---"
      ]
    },
    {
      "cell_type": "code",
      "execution_count": 7,
      "metadata": {},
      "outputs": [
        {
          "name": "stdout",
          "output_type": "stream",
          "text": [
            "{'tempo_gasto_site': 68.95, 'idade': 35, 'renda_area': 61833.9, 'tempo_gasto_internet': 256.09, 'cidade': 'Wrightburgh', 'pais': 'Tunisia', 'clicou_no_ad': 0}\n",
            "{'tempo_gasto_site': 80.23, 'idade': 31, 'renda_area': 68441.85, 'tempo_gasto_internet': 193.77, 'cidade': 'West Jodi', 'pais': 'Nauru', 'clicou_no_ad': 0}\n",
            "{'tempo_gasto_site': 69.47, 'idade': 26, 'renda_area': 59785.94, 'tempo_gasto_internet': 236.5, 'cidade': 'Davidton', 'pais': 'San Marino', 'clicou_no_ad': 0}\n",
            "{'tempo_gasto_site': 68.37, 'idade': 35, 'renda_area': 73889.99, 'tempo_gasto_internet': 225.58, 'cidade': 'South Manuel', 'pais': 'Iceland', 'clicou_no_ad': 0}\n",
            "{'tempo_gasto_site': 88.91, 'idade': 33, 'renda_area': 53852.85, 'tempo_gasto_internet': 208.36, 'cidade': 'Brandonstad', 'pais': 'Myanmar', 'clicou_no_ad': 0}\n",
            "{'tempo_gasto_site': 'Desconhecido', 'idade': 48, 'renda_area': 24593.33, 'tempo_gasto_internet': 131.76, 'cidade': 'Port Jefferybury', 'pais': 'Australia', 'clicou_no_ad': 1}\n",
            "{'tempo_gasto_site': 74.53, 'idade': 30, 'renda_area': 68862.0, 'tempo_gasto_internet': 221.51, 'cidade': 'West Colin', 'pais': 'Grenada', 'clicou_no_ad': 'Desconhecido'}\n",
            "{'tempo_gasto_site': 69.88, 'idade': 20, 'renda_area': 55642.32, 'tempo_gasto_internet': 183.82, 'cidade': 'Ramirezton', 'pais': 'Ghana', 'clicou_no_ad': 0}\n"
          ]
        }
      ],
      "source": [
        "# Limpeza e verificação de dados usando um loop for e instruções condicionais com o comando if para verificar se as chaves existem e se os valores são nulos ou não numéricos.\n",
        "for registro in propaganda_online:\n",
        "    if 'tempo_gasto_site' not in registro or registro['tempo_gasto_site'] is None:\n",
        "        registro['tempo_gasto_site'] = 'Desconhecido'\n",
        "    else:\n",
        "        registro['tempo_gasto_site'] = float(registro['tempo_gasto_site'])\n",
        "\n",
        "    if 'clicou_no_ad' not in registro or registro['clicou_no_ad'] is None:\n",
        "        registro['clicou_no_ad'] = 'Desconhecido'\n",
        "    else:\n",
        "        try:\n",
        "            registro['clicou_no_ad'] = int(registro['clicou_no_ad'])\n",
        "        except ValueError:\n",
        "            registro['clicou_no_ad'] = 'Desconhecido'\n",
        "\n",
        "    if 'pais' not in registro:\n",
        "        registro['pais'] = 'Desconhecido'\n",
        "    if 'cidade' not in registro:\n",
        "        registro['cidade'] = 'Desconhecido'\n",
        "    if 'renda_area' not in registro:\n",
        "        registro['renda_area'] = 'Desconhecido'\n",
        "    if 'idade' not in registro:\n",
        "        registro['idade'] = 'Desconhecido'\n",
        "    if 'tempo_gasto_internet' not in registro:\n",
        "        registro['tempo_gasto_internet'] = 'Desconhecido'\n",
        "    print(registro)  "
      ]
    },
    {
      "cell_type": "markdown",
      "metadata": {},
      "source": [
        "---"
      ]
    },
    {
      "cell_type": "code",
      "execution_count": 3,
      "metadata": {},
      "outputs": [
        {
          "name": "stdout",
          "output_type": "stream",
          "text": [
            "Tunisia\n",
            "Nauru\n",
            "Iceland\n",
            "Myanmar\n",
            "Australia\n"
          ]
        }
      ],
      "source": [
        "# lista paises com o pais dos usuários com mais de 30 anos. \n",
        "paises = []\n",
        "\n",
        "\n",
        "for registro in propaganda_online:\n",
        "    # Verificar se 'idade' existe e é maior que 30\n",
        "    if 'idade' in registro and registro['idade'] != 'Desconhecido' and int(registro['idade']) > 30:\n",
        "        # Adicionado país à lista\n",
        "        paises.append(registro['pais'])\n",
        "        print(registro['pais'])"
      ]
    },
    {
      "cell_type": "markdown",
      "metadata": {
        "id": "zMN1Q3jdwoJm"
      },
      "source": [
        "---"
      ]
    },
    {
      "cell_type": "code",
      "execution_count": 9,
      "metadata": {
        "id": "3mTbsme4_Pr0"
      },
      "outputs": [
        {
          "name": "stdout",
          "output_type": "stream",
          "text": [
            "24593.33\n"
          ]
        }
      ],
      "source": [
        "#lista leads com a renda dos usuários que clicaram na propaganda. \n",
        "leads = []\n",
        "\n",
        "for registro in propaganda_online:\n",
        "    if 'clicou_no_ad' in registro and registro['clicou_no_ad'] == 1:\n",
        "        leads.append(registro['renda_area'])\n",
        "        print(registro['renda_area'])"
      ]
    },
    {
      "cell_type": "markdown",
      "metadata": {
        "id": "4_L-WULHAesN"
      },
      "source": [
        "---"
      ]
    },
    {
      "cell_type": "code",
      "execution_count": 8,
      "metadata": {
        "id": "qAAUXPIEAqlc"
      },
      "outputs": [
        {
          "name": "stdout",
          "output_type": "stream",
          "text": [
            "West Jodi\n",
            "Brandonstad\n",
            "West Colin\n"
          ]
        }
      ],
      "source": [
        "#lista cidades com a cidade dos usuários que passaram mais de 70 segundos no site.\n",
        "cidades = []\n",
        "\n",
        "for dado_de_usuario in propaganda_online:\n",
        "    if 'tempo_gasto_site' in dado_de_usuario and dado_de_usuario['tempo_gasto_site'] != 'Desconhecido' and dado_de_usuario['tempo_gasto_site'] > 70:\n",
        "        cidades.append(dado_de_usuario['cidade'])\n",
        "        print(dado_de_usuario['cidade'])"
      ]
    },
    {
      "cell_type": "markdown",
      "metadata": {
        "id": "IiPQG5WyAqle"
      },
      "source": [
        "---"
      ]
    }
  ],
  "metadata": {
    "colab": {
      "collapsed_sections": [],
      "name": "module_3_exercise.ipynb",
      "provenance": [],
      "toc_visible": true
    },
    "kernelspec": {
      "display_name": "Python 3",
      "name": "python3"
    },
    "language_info": {
      "codemirror_mode": {
        "name": "ipython",
        "version": 3
      },
      "file_extension": ".py",
      "mimetype": "text/x-python",
      "name": "python",
      "nbconvert_exporter": "python",
      "pygments_lexer": "ipython3",
      "version": "3.12.3"
    }
  },
  "nbformat": 4,
  "nbformat_minor": 0
}
